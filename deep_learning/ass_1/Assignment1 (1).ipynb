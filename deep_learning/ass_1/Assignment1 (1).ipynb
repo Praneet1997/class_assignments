{
 "cells": [
  {
   "cell_type": "markdown",
   "metadata": {},
   "source": [
    "## Implementing multiple linear regression using numpy"
   ]
  },
  {
   "cell_type": "code",
   "execution_count": 1,
   "metadata": {},
   "outputs": [
    {
     "ename": "SyntaxError",
     "evalue": "invalid syntax (<ipython-input-1-9eafdc533887>, line 29)",
     "output_type": "error",
     "traceback": [
      "\u001b[0;36m  File \u001b[0;32m\"<ipython-input-1-9eafdc533887>\"\u001b[0;36m, line \u001b[0;32m29\u001b[0m\n\u001b[0;31m    rows,cols= #?, #?\u001b[0m\n\u001b[0m                      ^\u001b[0m\n\u001b[0;31mSyntaxError\u001b[0m\u001b[0;31m:\u001b[0m invalid syntax\n"
     ]
    }
   ],
   "source": [
    "'''\n",
    "Name : Student_1\n",
    "Roll No: roll_no\n",
    "\n",
    "Assignment 1a\n",
    "'''\n",
    "\n",
    "import numpy as np\n",
    "import matplotlib.pyplot as plt\n",
    "import pandas as pd\n",
    "\n",
    "'''\n",
    "You will not import any other library other than these provided.\n",
    "\n",
    "We provide the concrete_dataset as an example.\n",
    "There are 8 dependent variables columns(1-8).\n",
    "The last column (concrete compressive strength) is the value we wish to estimate.\n",
    "'''\n",
    "\n",
    "df= pd.read_csv('Concrete_Data.csv')\n",
    "df.head()\n",
    "\n",
    "# reads the file and stores in 2 numpy arrays.\n",
    "# X has the input features and Y has the output value in numpy array\n",
    "\n",
    "X = df.iloc[:,:-1].values\n",
    "Y = df.iloc[:,-1].values\n",
    "\n",
    "rows,cols= #?, #? \n",
    "# how to get the number of rows and columns in the dataset.\n",
    "# Rows correspond to the number of input instances, columns correspond to the feature of an input\n",
    "\n",
    "print(rows,cols)\n",
    "\n",
    "np.random.seed(42) # to ensure that the same seed is generated\n",
    "\n",
    "# write code to shuffle the dataset\n",
    "\n",
    "def shuffle_dataset(X,Y):\n",
    "    \n",
    "    '''\n",
    "        Write code to shuffle the dataset here. \n",
    "        \n",
    "        Args: \n",
    "            X: Input feature ndarray\n",
    "            Y: Input values ndarray\n",
    "            \n",
    "        Return:\n",
    "            X and Y shuffled in place\n",
    "    \n",
    "    '''\n",
    "    \n",
    "    pass\n",
    "\n",
    "training_size = int(0.8*rows)\n",
    "X_train = X[:training_size]\n",
    "y_train = Y[:training_size]\n",
    "X_test = X[training_size:]\n",
    "y_test = Y[training_size:]\n"
   ]
  },
  {
   "cell_type": "markdown",
   "metadata": {},
   "source": [
    "## Defining the Linear Regression class "
   ]
  },
  {
   "cell_type": "code",
   "execution_count": 2,
   "metadata": {},
   "outputs": [
    {
     "ename": "SyntaxError",
     "evalue": "invalid syntax (<ipython-input-2-994b2fde23b6>, line 5)",
     "output_type": "error",
     "traceback": [
      "\u001b[0;36m  File \u001b[0;32m\"<ipython-input-2-994b2fde23b6>\"\u001b[0;36m, line \u001b[0;32m5\u001b[0m\n\u001b[0;31m    self.w = #? Sample an array corresponding to the number of input features (cols) from a uniform distribution between -1 and 1\u001b[0m\n\u001b[0m                                                                                                                                 ^\u001b[0m\n\u001b[0;31mSyntaxError\u001b[0m\u001b[0;31m:\u001b[0m invalid syntax\n"
     ]
    }
   ],
   "source": [
    "class LinearRegression(object):\n",
    "    def __init__(self):\n",
    "        #Initialize all parameters\n",
    "        \n",
    "        self.w = #? Sample an array corresponding to the number of input features (cols) from a uniform distribution between -1 and 1\n",
    "        self.b = #? Sample from a uniform distribution between -1 and 1\n",
    "    \n",
    "    def forward(self, x):\n",
    "        '''\n",
    "            Do a forward pass of the classifier:\n",
    "            Args:\n",
    "                x: Input X matrix\n",
    "            Return:\n",
    "                y: y = X.w + b  \n",
    "        '''\n",
    "        # Complete this function \n",
    "        \n",
    "        raise NotImplementedError\n",
    "        \n",
    "    \n",
    "    def backward(self, x, ypred, y_train, lr):\n",
    "        '''\n",
    "            Computes all gradients and updates the parameters w and b\n",
    "            Args:\n",
    "                x : x\n",
    "                ypred: y=wx+b\n",
    "                y_train = ground truth values\n",
    "                lr = learning rate\n",
    "        '''\n",
    "        # Complete this function\n",
    "        \n",
    "        raise NotImplementedError\n",
    "\n",
    "def MSELoss(y, ypred):\n",
    "    '''\n",
    "        Args:\n",
    "            y: ground truth labels\n",
    "            ypred: predicted labels\n",
    "        Return:\n",
    "            Mean squared error loss\n",
    "    '''\n",
    "    \n",
    "    # Compute the mean squared error \n",
    "    raise NotImplementedError\n"
   ]
  },
  {
   "cell_type": "code",
   "execution_count": 3,
   "metadata": {},
   "outputs": [
    {
     "ename": "SyntaxError",
     "evalue": "invalid syntax (<ipython-input-3-01b19bad88d5>, line 30)",
     "output_type": "error",
     "traceback": [
      "\u001b[0;36m  File \u001b[0;32m\"<ipython-input-3-01b19bad88d5>\"\u001b[0;36m, line \u001b[0;32m30\u001b[0m\n\u001b[0;31m    y_train_loss= # Print training loss ?\u001b[0m\n\u001b[0m                                         ^\u001b[0m\n\u001b[0;31mSyntaxError\u001b[0m\u001b[0;31m:\u001b[0m invalid syntax\n"
     ]
    }
   ],
   "source": [
    "# Specify the number of epochs as well as the learning rate. \n",
    "# Keep the values fixed.\n",
    "\n",
    "print('Starting Training with Gradient Descent')\n",
    "lreg = LinearRegression()\n",
    "epochs = 10000\n",
    "learning_rate = 0.0000001\n",
    "\n",
    "loss_history = []\n",
    "epoch_history = []\n",
    "\n",
    "# Gradient Descent\n",
    "for e in range(epochs):\n",
    "    ypred = lreg.forward(X_train) # computes the predicted values\n",
    "    loss = MSELoss(y_train, ypred) # computes the MSE loss between the actual and predicted values\n",
    "    # store the values of loss per epoch\n",
    "    if e==0 or (e+1)%100==0:\n",
    "        loss_history.append(loss)\n",
    "        epoch_history.append(e+1)\n",
    "        \n",
    "    \n",
    "    lreg.backward(X_train, ypred, y_train, learning_rate)\n",
    "\n",
    "print('Loss fuction decrease after ' + str(epochs) + ' epochs of training')\n",
    "#Plot the decrease in loss with epoch\n",
    "plt.plot(epoch_history, loss_history)\n",
    "plt.show()\n",
    "\n",
    "print('Final training loss')   \n",
    "y_train_loss= # Print training loss ?\n",
    "print('Starting to test')\n",
    "ytest_pred= # find predictions on test set ?\n",
    "loss= # compute loss on test set ?\n",
    "print('Final test loss: ' + str(loss))\n"
   ]
  }
 ],
 "metadata": {
  "kernelspec": {
   "display_name": "Python 3",
   "language": "python",
   "name": "python3"
  },
  "language_info": {
   "codemirror_mode": {
    "name": "ipython",
    "version": 3
   },
   "file_extension": ".py",
   "mimetype": "text/x-python",
   "name": "python",
   "nbconvert_exporter": "python",
   "pygments_lexer": "ipython3",
   "version": "3.5.2"
  }
 },
 "nbformat": 4,
 "nbformat_minor": 2
}
